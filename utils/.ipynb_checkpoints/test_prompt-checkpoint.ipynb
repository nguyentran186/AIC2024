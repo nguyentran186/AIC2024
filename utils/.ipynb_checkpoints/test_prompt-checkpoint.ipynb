{
 "cells": [
  {
   "cell_type": "code",
   "execution_count": 10,
   "id": "adcb7bfd-c9f7-4ad4-8f25-5512bab88494",
   "metadata": {},
   "outputs": [],
   "source": [
    "# Import module\n",
    "import os\n",
    "import open_clip\n",
    "import glob\n",
    "import torch\n",
    "import numpy as np\n",
    "from PIL import Image\n",
    "from tqdm import tqdm\n",
    "import faiss\n"
   ]
  },
  {
   "cell_type": "code",
   "execution_count": 13,
   "id": "61a9bae2-5b22-4e65-bf6f-b87e7a05ebc1",
   "metadata": {},
   "outputs": [],
   "source": [
    "import faiss\n",
    "\n",
    "# Path to your binary file\n",
    "index_file_path = \"./../dict/faiss_clipv2_cosine.bin\"\n",
    "\n",
    "# Load the index\n",
    "index = faiss.read_index(index_file_path)\n",
    "\n",
    "# Now you can use the index for search or further operations\n"
   ]
  },
  {
   "cell_type": "code",
   "execution_count": 14,
   "id": "a804de3e-0191-46bf-9555-4311d7f06abf",
   "metadata": {},
   "outputs": [
    {
     "name": "stdout",
     "output_type": "stream",
     "text": [
      "cuda\n"
     ]
    }
   ],
   "source": [
    "##### Load Model #####\n",
    "device = \"cuda\" if torch.cuda.is_available() else \"cpu\"\n",
    "print(device)\n",
    "model, _, preprocess = open_clip.create_model_and_transforms('ViT-L-14', device=device, pretrained='datacomp_xl_s13b_b90k')"
   ]
  },
  {
   "cell_type": "code",
   "execution_count": 21,
   "id": "9179ac79-de6d-40fd-b36d-54a88b904f16",
   "metadata": {},
   "outputs": [
    {
     "data": {
      "text/plain": [
       "'/home/nguyen/.code/AIChallenge2023/utils'"
      ]
     },
     "execution_count": 21,
     "metadata": {},
     "output_type": "execute_result"
    }
   ],
   "source": [
    "os.getcwd()"
   ]
  },
  {
   "cell_type": "code",
   "execution_count": 35,
   "id": "25c03f86-2583-442e-a290-7299986518e1",
   "metadata": {},
   "outputs": [],
   "source": [
    "import numpy as np\n",
    "import os\n",
    "\n",
    "# Base directories\n",
    "dataset_base_dir = './../data/keyframes/'\n",
    "npy_base_dir = './../data_extraction/CLIP_features/'\n",
    "\n",
    "# Initialize the mapping dictionary\n",
    "frame_to_feature_map = {}\n",
    "\n",
    "# Loop over each L0x directory\n",
    "for level_dir in sorted(os.listdir(dataset_base_dir)):\n",
    "    if level_dir.startswith('Keyframes_'):\n",
    "        level_id = level_dir.split('_')[1]  # Extract L0x\n",
    "        \n",
    "        # Loop over each video directory within the L0x directory\n",
    "        for video_dir in sorted(os.listdir(os.path.join(dataset_base_dir, level_dir))):\n",
    "            video_id = video_dir.split('_')[1]  # Extract V00y\n",
    "\n",
    "            # Load the features from the corresponding npy file\n",
    "            npy_file_path = os.path.join(npy_base_dir, level_id, f'{video_id}.npy')\n",
    "            if os.path.exists(npy_file_path):\n",
    "                features = np.load(npy_file_path)\n",
    "            else:\n",
    "                print(f\"Warning: Missing npy file for {level_id}_{video_id}\")\n",
    "                continue\n",
    "\n",
    "            # Get the list of frames in the video directory\n",
    "            frame_files = sorted(os.listdir(os.path.join(dataset_base_dir, level_dir, video_dir)))\n",
    "\n",
    "            # Map each frame to its corresponding feature\n",
    "            for i, frame_file in enumerate(frame_files):\n",
    "                if frame_file.endswith('.jpg'):\n",
    "                    frame_index = os.path.splitext(frame_file)[0]\n",
    "                    key = f\"{level_id}_{video_id}_{frame_index}\"\n",
    "                    frame_to_feature_map[key] = features[i].reshape(1,-1)"
   ]
  },
  {
   "cell_type": "code",
   "execution_count": 37,
   "id": "9fa01360-0ba6-4c05-a6dc-06843d2ecb21",
   "metadata": {},
   "outputs": [],
   "source": [
    "def search_tags(query_tags, model, index, embeddings, top_k=5):\n",
    "    \"\"\"Search for tags similar to the given query tags.\"\"\"\n",
    "    text_tokens = open_clip.tokenize(query_tags).to(device)\n",
    "    with torch.no_grad():\n",
    "        text_features = model.encode_text(text_tokens)\n",
    "\n",
    "    text_features /= text_features.norm(dim=-1, keepdim=True)\n",
    "    text_features = text_features.cpu().detach().numpy().astype(np.float32)\n",
    "    \n",
    "    distances, indices = index.search(text_features, top_k)\n",
    "\n",
    "    scores, idx_image = index.search(text_features, k=top_k)\n",
    "\n",
    "    idx_image = idx_image.flatten()\n",
    "    \n",
    "    results = []\n",
    "    for i in indices[0]:\n",
    "        key = list(embeddings.keys())[i]\n",
    "        results.append(key)\n",
    "    \n",
    "    return results"
   ]
  },
  {
   "cell_type": "code",
   "execution_count": 40,
   "id": "988a03dc-2bd9-47c8-9516-3a32978e1957",
   "metadata": {},
   "outputs": [
    {
     "name": "stdout",
     "output_type": "stream",
     "text": [
      "Search results: ['L03_V026_114', 'L01_V030_019', 'L08_V011_039', 'L10_V021_022', 'L10_V021_019']\n"
     ]
    }
   ],
   "source": [
    "# Example query\n",
    "query = [\"A girl selling fruit\"]\n",
    "results = search_tags(query, model, index, frame_to_feature_map)\n",
    "print(\"Search results:\", results)"
   ]
  },
  {
   "cell_type": "code",
   "execution_count": null,
   "id": "a9450cab-7625-45b6-8e39-c6a63286b112",
   "metadata": {},
   "outputs": [],
   "source": [
    "# Convert numpy arrays to lists\n",
    "frame_to_feature_map_serializable = {\n",
    "    key: value.tolist() for key, value in frame_to_feature_map.items()\n",
    "}\n",
    "\n",
    "# Save the serializable dictionary to a JSON file\n",
    "with open('frame_to_feature_map.json', 'w') as json_file:\n",
    "    json.dump(frame_to_feature_map_serializable, json_file, indent=4)"
   ]
  },
  {
   "cell_type": "code",
   "execution_count": null,
   "id": "c5666a17-e0a2-40d5-a1e1-33ce5b659959",
   "metadata": {},
   "outputs": [],
   "source": []
  }
 ],
 "metadata": {
  "kernelspec": {
   "display_name": "Python 3 (ipykernel)",
   "language": "python",
   "name": "python3"
  },
  "language_info": {
   "codemirror_mode": {
    "name": "ipython",
    "version": 3
   },
   "file_extension": ".py",
   "mimetype": "text/x-python",
   "name": "python",
   "nbconvert_exporter": "python",
   "pygments_lexer": "ipython3",
   "version": "3.10.12"
  }
 },
 "nbformat": 4,
 "nbformat_minor": 5
}
