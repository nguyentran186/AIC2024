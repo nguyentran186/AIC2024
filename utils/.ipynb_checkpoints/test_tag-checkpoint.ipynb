{
 "cells": [
  {
   "cell_type": "code",
   "execution_count": 6,
   "id": "fe13c779-9a48-4165-a709-7b994974f194",
   "metadata": {},
   "outputs": [],
   "source": [
    "import faiss\n",
    "\n",
    "# Path to your binary file\n",
    "index_file_path = \"./../dict/frame_tag_cosine.bin\"\n",
    "\n",
    "# Load the index\n",
    "index = faiss.read_index(index_file_path)\n",
    "\n",
    "# Now you can use the index for search or further operations\n"
   ]
  },
  {
   "cell_type": "code",
   "execution_count": null,
   "id": "070f24d4-87b8-4960-a6fd-47b9d66df30b",
   "metadata": {},
   "outputs": [],
   "source": [
    "import gensim.downloader as api\n",
    "model = api.load(\"word2vec-google-news-300\")"
   ]
  },
  {
   "cell_type": "code",
   "execution_count": null,
   "id": "70d2e77c-e131-46b1-9da6-cdb0de1c3a2c",
   "metadata": {},
   "outputs": [],
   "source": [
    "import numpy as np\n",
    "\n",
    "def get_tag_vector(tag, model):\n",
    "    \"\"\"Get the vector for a single tag.\"\"\"\n",
    "    if tag in model:\n",
    "        return model[tag]\n",
    "    else:\n",
    "        return np.zeros(model.vector_size)  # Return zero vector if tag not in model\n",
    "\n",
    "def embed_tags(tags, model):\n",
    "    \"\"\"Embed a set of tags into a single vector by averaging.\"\"\"\n",
    "    vectors = [get_tag_vector(tag, model) for tag in tags]\n",
    "    if vectors:\n",
    "        return np.mean(vectors, axis=0)\n",
    "    else:\n",
    "        return np.zeros(model.vector_size)  # Return zero vector if no tags\n",
    "\n",
    "# Create embeddings for each key\n",
    "embeddings = {key: embed_tags(tags, model) for key, tags in all_keyframe_dict.items()}"
   ]
  },
  {
   "cell_type": "code",
   "execution_count": null,
   "id": "71089971-6aab-4af7-88b5-5f03a41ce7b8",
   "metadata": {},
   "outputs": [],
   "source": [
    "def search_tags(query_tags, model, index, embeddings, top_k=5):\n",
    "    \"\"\"Search for tags similar to the given query tags.\"\"\"\n",
    "    query_vector = embed_tags(query_tags, model)\n",
    "    query_vector = np.expand_dims(query_vector, axis=0).astype('float32')\n",
    "    \n",
    "    distances, indices = index.search(query_vector, top_k)\n",
    "    \n",
    "    results = []\n",
    "    for i in indices[0]:\n",
    "        key = list(embeddings.keys())[i]\n",
    "        results.append(key)\n",
    "    \n",
    "    return results\n",
    "\n"
   ]
  },
  {
   "cell_type": "code",
   "execution_count": null,
   "id": "9f453841-8799-4c1d-92e8-fabc3452e761",
   "metadata": {},
   "outputs": [],
   "source": [
    "# Example query\n",
    "query = {\"people\", \"father\", \"son\", \"christmas\"}\n",
    "results = search_tags(query, model, index, embeddings)\n",
    "print(\"Search results:\", results)"
   ]
  }
 ],
 "metadata": {
  "kernelspec": {
   "display_name": "Python 3 (ipykernel)",
   "language": "python",
   "name": "python3"
  },
  "language_info": {
   "codemirror_mode": {
    "name": "ipython",
    "version": 3
   },
   "file_extension": ".py",
   "mimetype": "text/x-python",
   "name": "python",
   "nbconvert_exporter": "python",
   "pygments_lexer": "ipython3",
   "version": "3.10.12"
  }
 },
 "nbformat": 4,
 "nbformat_minor": 5
}
